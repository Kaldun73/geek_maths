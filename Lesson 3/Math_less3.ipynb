{
 "cells": [
  {
   "cell_type": "markdown",
   "metadata": {},
   "source": [
    "### Проверить любым способом, является ли данная логическая формула тавтологией"
   ]
  },
  {
   "cell_type": "markdown",
   "metadata": {},
   "source": [
    "### 1. $(A \\vee B) \\rightarrow (B \\vee \\overline{A})$"
   ]
  },
  {
   "cell_type": "markdown",
   "metadata": {},
   "source": [
    "Не является тавтологией, т.к. противоречит закону коммутативной дизъюнкции. "
   ]
  },
  {
   "cell_type": "markdown",
   "metadata": {},
   "source": [
    "### 2. $A \\rightarrow (A \\vee (\\overline{B} \\wedge A))$"
   ]
  },
  {
   "cell_type": "markdown",
   "metadata": {},
   "source": [
    "Является тавтологией, т.к. по закону поглащения дизъюнкции $(A \\vee (\\overline{B} \\wedge A))$ = $A$"
   ]
  },
  {
   "cell_type": "markdown",
   "metadata": {},
   "source": [
    "### Сформулируйте словесно высказывания:"
   ]
  },
  {
   "cell_type": "markdown",
   "metadata": {},
   "source": [
    "### 3. $(\\overline{A} \\vee B) \\rightarrow \\overline{C}$"
   ]
  },
  {
   "cell_type": "markdown",
   "metadata": {},
   "source": [
    "Если сегодня не светит солнце или сыро, то я не еду на дачу"
   ]
  },
  {
   "cell_type": "markdown",
   "metadata": {},
   "source": [
    "### 4. $C \\rightarrow (A \\vee \\overline{B})$"
   ]
  },
  {
   "cell_type": "markdown",
   "metadata": {},
   "source": [
    "Я сегодня еду на дачу, значит светит солнце и не сыро. "
   ]
  },
  {
   "cell_type": "markdown",
   "metadata": {},
   "source": [
    "### Пользуясь правилом построения противоположного высказывания, записать утверждения, противоположные следующим:"
   ]
  },
  {
   "cell_type": "markdown",
   "metadata": {},
   "source": [
    "#### 5.На любом курсе каждого факультета есть студенты, сдающие все экзамены на «отлично»."
   ]
  },
  {
   "cell_type": "markdown",
   "metadata": {},
   "source": [
    "Существует курс одного из факультетов, где ни один из студентов не сдал все экзамены на \"отлично\""
   ]
  },
  {
   "cell_type": "markdown",
   "metadata": {},
   "source": [
    "#### 6. Каждый студент философского факультета имеет друга, который умеет решать все логические задачи."
   ]
  },
  {
   "cell_type": "markdown",
   "metadata": {},
   "source": [
    "Существует студент философского факультета, у которого ни один из друзей не умеет решать логические задачи."
   ]
  },
  {
   "cell_type": "markdown",
   "metadata": {},
   "source": [
    "#### 7. В любом самолете на рейсе Вашингтон-Москва присутствует хотя бы один сотрудник силовых органов, в каждой пуговице одежды которого вмонтирован микрофон.\n"
   ]
  },
  {
   "cell_type": "markdown",
   "metadata": {},
   "source": [
    "Существует самолет на рейсе Вашингтон-Москва, где нет сотрудников силовых органов, у которых в одной из пуговиц вмонтирован микрофон"
   ]
  },
  {
   "cell_type": "markdown",
   "metadata": {},
   "source": [
    "### Представьте в виде несократимой рациональной дроби:"
   ]
  },
  {
   "cell_type": "markdown",
   "metadata": {},
   "source": [
    "#### 8. 0.(216)"
   ]
  },
  {
   "cell_type": "markdown",
   "metadata": {},
   "source": [
    "$ \\displaystyle a = 0.(216) \\Rightarrow 1000 \\cdot a = 216.(216) \\Rightarrow 999 \\cdot a = 216 \\Rightarrow a = \\frac{216}{999} = \\frac{8}{37}$"
   ]
  },
  {
   "cell_type": "markdown",
   "metadata": {},
   "source": [
    "#### 9. 1.0(01)"
   ]
  },
  {
   "cell_type": "markdown",
   "metadata": {},
   "source": [
    "$\\displaystyle a = 0.(01) \\Rightarrow 100 \\cdot a = 1 + a \\Rightarrow a = \\frac{1}{99}$"
   ]
  },
  {
   "cell_type": "markdown",
   "metadata": {},
   "source": [
    "$\\displaystyle 1.0(01) = 1 + \\frac{1}{10}\\cdot 0.(01) = 1 + \\frac{1}{10}\\cdot\\frac{1}{99} = 1 + \\frac{1}{990} = \\frac{991}{990}$"
   ]
  },
  {
   "cell_type": "markdown",
   "metadata": {},
   "source": [
    "#### 10. Представьте 1 в виде суммы трех рациональных дробей с разными знаменателями и числителем равным 1."
   ]
  },
  {
   "cell_type": "markdown",
   "metadata": {},
   "source": [
    "$1 = \\displaystyle \\frac{1}{2} + \\displaystyle \\frac{1}{3} + \\displaystyle \\frac{1}{6}$"
   ]
  },
  {
   "cell_type": "markdown",
   "metadata": {},
   "source": [
    "### 11*. Тоже задание, только в виде суммы шести дробей."
   ]
  },
  {
   "cell_type": "markdown",
   "metadata": {},
   "source": [
    "$1 = \\displaystyle \\frac{1}{3} + \\displaystyle \\frac{1}{4} + \\displaystyle \\frac{1}{6} + \\displaystyle \\frac{1}{7} + \\displaystyle \\frac{1}{12} + \\displaystyle \\frac{1}{42}$"
   ]
  },
  {
   "cell_type": "markdown",
   "metadata": {},
   "source": [
    "### 12. Найдите значение предела:"
   ]
  },
  {
   "cell_type": "markdown",
   "metadata": {},
   "source": [
    "$\\displaystyle \\lim_{n \\to \\infty}\\Big( \\frac{1}{1\\cdot 2} + \\frac{1}{2\\cdot 3} + \\frac{1}{3\\cdot 4} + \\dots + \\frac{1}{(n-1) \\cdot n}\\Big)$"
   ]
  },
  {
   "cell_type": "markdown",
   "metadata": {},
   "source": [
    "$\\displaystyle \\Big( \\frac{1}{1\\cdot 2} + \\frac{1}{2\\cdot 3} + \\frac{1}{3\\cdot 4} + \\dots + \\frac{1}{(n-1) \\cdot n}\\Big) = \\sum_{n=2}^{\\infty}\\frac{1}{(n-1) \\cdot n}$"
   ]
  },
  {
   "cell_type": "markdown",
   "metadata": {},
   "source": [
    "$\\displaystyle \\frac{1}{(n-1) \\cdot n} = \\frac{1 + n - n}{n(n-1)} = \\frac{n}{n(n-1)} + \\frac{1-n}{n(n-1)} = \\frac{1}{n-1} - \\frac{1}{n}$"
   ]
  },
  {
   "cell_type": "markdown",
   "metadata": {},
   "source": [
    "$\\displaystyle \\sum_{n=2}^{\\infty} \\Big(\\frac{1}{n-1} - \\frac{1}{n} \\Big) = 1 - \\frac{1}{2} + \\frac{1}{2} - \\frac{1}{3} + \\frac{1}{3} - \\dots = 1$"
   ]
  },
  {
   "cell_type": "markdown",
   "metadata": {},
   "source": [
    "Ответ: предел равен 1"
   ]
  },
  {
   "cell_type": "markdown",
   "metadata": {},
   "source": [
    "### 13. Пользуясь критерием Коши, докажите сходимость последовательности: $ a_n = \\displaystyle \\frac{\\sin 1}{2} + \\displaystyle \\frac{\\sin 2}{2^2} + \\displaystyle \\frac{\\sin 3}{2^3} +\\cdots + \\displaystyle \\frac{\\sin n}{2^n} $"
   ]
  },
  {
   "cell_type": "markdown",
   "metadata": {},
   "source": [
    "#### Доказательство: $\\sin n \\leq 1$, следовательно сравним последовательность с 1  в числителе: "
   ]
  },
  {
   "cell_type": "markdown",
   "metadata": {},
   "source": [
    "$a_n = \\displaystyle \\frac{\\sin 1}{2} + \\displaystyle \\frac{\\sin 2}{2^2} + \\displaystyle \\frac{\\sin 3}{2^3} +\\cdots + \\displaystyle \\frac{\\sin n}{2^n} \\leq \\displaystyle \\frac{1}{2} + \\displaystyle \\frac{1}{2^2} + \\displaystyle \\frac{1}{2^3} +\\cdots + \\displaystyle \\frac{1}{2^n}$"
   ]
  },
  {
   "cell_type": "markdown",
   "metadata": {},
   "source": [
    "#### $|a_{n+k} - a_n| \\leq \\displaystyle \\frac{1}{2^{n+1}} + \\displaystyle \\frac{1}{2^{n+2}} + \\cdots +  \\displaystyle \\frac{1}{2^{n+k}}  =  \\displaystyle \\frac{1}{2^n}(\\displaystyle \\frac{1}{2} + \\displaystyle \\frac{1}{2^2} + \\cdots + \\displaystyle \\frac{1}{2^k}) \\leq \\displaystyle \\frac{1}{2^n} * 1 $"
   ]
  },
  {
   "cell_type": "markdown",
   "metadata": {},
   "source": [
    " если  $\\displaystyle \\frac{1}{2^n} < \\varepsilon $, то критерию Коши удовлетворяет. "
   ]
  },
  {
   "cell_type": "markdown",
   "metadata": {},
   "source": [
    "$ 2^{-n} < \\varepsilon$"
   ]
  },
  {
   "cell_type": "markdown",
   "metadata": {},
   "source": [
    "$- n < \\log_2{\\varepsilon}$"
   ]
  },
  {
   "cell_type": "markdown",
   "metadata": {},
   "source": [
    "тогда для всех $k > 0, n > N$, и где $ N > - \\log_2{\\varepsilon}$ будет справедливо неравенство $|a_{n+k} - a_n| < \\varepsilon$"
   ]
  },
  {
   "cell_type": "code",
   "execution_count": null,
   "metadata": {},
   "outputs": [],
   "source": []
  }
 ],
 "metadata": {
  "kernelspec": {
   "display_name": "Python 3",
   "language": "python",
   "name": "python3"
  },
  "language_info": {
   "codemirror_mode": {
    "name": "ipython",
    "version": 3
   },
   "file_extension": ".py",
   "mimetype": "text/x-python",
   "name": "python",
   "nbconvert_exporter": "python",
   "pygments_lexer": "ipython3",
   "version": "3.7.6"
  }
 },
 "nbformat": 4,
 "nbformat_minor": 4
}
